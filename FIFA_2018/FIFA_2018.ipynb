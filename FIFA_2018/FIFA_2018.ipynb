{
 "cells": [
  {
   "cell_type": "markdown",
   "metadata": {},
   "source": [
    "![world-cup-18](images/fifa-world-cup-2018.jpg)\n",
    "https://github.com/khanhnamle1994/world-cup-2018"
   ]
  },
  {
   "cell_type": "code",
   "execution_count": 1,
   "metadata": {},
   "outputs": [],
   "source": [
    "# Import libraries\n",
    "import pandas as pd\n",
    "import numpy as np\n",
    "\n",
    "import seaborn as sns\n",
    "import matplotlib.pyplot as plt\n",
    "%matplotlib inline\n",
    "\n",
    "from plotly.offline import iplot, init_notebook_mode\n",
    "from geopy.geocoders import Nominatim\n",
    "import plotly.plotly as py"
   ]
  },
  {
   "cell_type": "markdown",
   "metadata": {},
   "source": [
    "## 1 - Data Preparation\n",
    "### 1.1 Load Data"
   ]
  },
  {
   "cell_type": "code",
   "execution_count": 2,
   "metadata": {},
   "outputs": [
    {
     "data": {
      "text/html": [
       "<div>\n",
       "<style scoped>\n",
       "    .dataframe tbody tr th:only-of-type {\n",
       "        vertical-align: middle;\n",
       "    }\n",
       "\n",
       "    .dataframe tbody tr th {\n",
       "        vertical-align: top;\n",
       "    }\n",
       "\n",
       "    .dataframe thead th {\n",
       "        text-align: right;\n",
       "    }\n",
       "</style>\n",
       "<table border=\"1\" class=\"dataframe\">\n",
       "  <thead>\n",
       "    <tr style=\"text-align: right;\">\n",
       "      <th></th>\n",
       "      <th>Unnamed: 0</th>\n",
       "      <th>Name</th>\n",
       "      <th>Age</th>\n",
       "      <th>Photo</th>\n",
       "      <th>Nationality</th>\n",
       "      <th>Flag</th>\n",
       "      <th>Overall</th>\n",
       "      <th>Potential</th>\n",
       "      <th>Club</th>\n",
       "      <th>Club Logo</th>\n",
       "      <th>...</th>\n",
       "      <th>RB</th>\n",
       "      <th>RCB</th>\n",
       "      <th>RCM</th>\n",
       "      <th>RDM</th>\n",
       "      <th>RF</th>\n",
       "      <th>RM</th>\n",
       "      <th>RS</th>\n",
       "      <th>RW</th>\n",
       "      <th>RWB</th>\n",
       "      <th>ST</th>\n",
       "    </tr>\n",
       "  </thead>\n",
       "  <tbody>\n",
       "    <tr>\n",
       "      <th>0</th>\n",
       "      <td>0</td>\n",
       "      <td>Cristiano Ronaldo</td>\n",
       "      <td>32</td>\n",
       "      <td>https://cdn.sofifa.org/48/18/players/20801.png</td>\n",
       "      <td>Portugal</td>\n",
       "      <td>https://cdn.sofifa.org/flags/38.png</td>\n",
       "      <td>94</td>\n",
       "      <td>94</td>\n",
       "      <td>Real Madrid CF</td>\n",
       "      <td>https://cdn.sofifa.org/24/18/teams/243.png</td>\n",
       "      <td>...</td>\n",
       "      <td>61.0</td>\n",
       "      <td>53.0</td>\n",
       "      <td>82.0</td>\n",
       "      <td>62.0</td>\n",
       "      <td>91.0</td>\n",
       "      <td>89.0</td>\n",
       "      <td>92.0</td>\n",
       "      <td>91.0</td>\n",
       "      <td>66.0</td>\n",
       "      <td>92.0</td>\n",
       "    </tr>\n",
       "    <tr>\n",
       "      <th>1</th>\n",
       "      <td>1</td>\n",
       "      <td>L. Messi</td>\n",
       "      <td>30</td>\n",
       "      <td>https://cdn.sofifa.org/48/18/players/158023.png</td>\n",
       "      <td>Argentina</td>\n",
       "      <td>https://cdn.sofifa.org/flags/52.png</td>\n",
       "      <td>93</td>\n",
       "      <td>93</td>\n",
       "      <td>FC Barcelona</td>\n",
       "      <td>https://cdn.sofifa.org/24/18/teams/241.png</td>\n",
       "      <td>...</td>\n",
       "      <td>57.0</td>\n",
       "      <td>45.0</td>\n",
       "      <td>84.0</td>\n",
       "      <td>59.0</td>\n",
       "      <td>92.0</td>\n",
       "      <td>90.0</td>\n",
       "      <td>88.0</td>\n",
       "      <td>91.0</td>\n",
       "      <td>62.0</td>\n",
       "      <td>88.0</td>\n",
       "    </tr>\n",
       "    <tr>\n",
       "      <th>2</th>\n",
       "      <td>2</td>\n",
       "      <td>Neymar</td>\n",
       "      <td>25</td>\n",
       "      <td>https://cdn.sofifa.org/48/18/players/190871.png</td>\n",
       "      <td>Brazil</td>\n",
       "      <td>https://cdn.sofifa.org/flags/54.png</td>\n",
       "      <td>92</td>\n",
       "      <td>94</td>\n",
       "      <td>Paris Saint-Germain</td>\n",
       "      <td>https://cdn.sofifa.org/24/18/teams/73.png</td>\n",
       "      <td>...</td>\n",
       "      <td>59.0</td>\n",
       "      <td>46.0</td>\n",
       "      <td>79.0</td>\n",
       "      <td>59.0</td>\n",
       "      <td>88.0</td>\n",
       "      <td>87.0</td>\n",
       "      <td>84.0</td>\n",
       "      <td>89.0</td>\n",
       "      <td>64.0</td>\n",
       "      <td>84.0</td>\n",
       "    </tr>\n",
       "    <tr>\n",
       "      <th>3</th>\n",
       "      <td>3</td>\n",
       "      <td>L. Suárez</td>\n",
       "      <td>30</td>\n",
       "      <td>https://cdn.sofifa.org/48/18/players/176580.png</td>\n",
       "      <td>Uruguay</td>\n",
       "      <td>https://cdn.sofifa.org/flags/60.png</td>\n",
       "      <td>92</td>\n",
       "      <td>92</td>\n",
       "      <td>FC Barcelona</td>\n",
       "      <td>https://cdn.sofifa.org/24/18/teams/241.png</td>\n",
       "      <td>...</td>\n",
       "      <td>64.0</td>\n",
       "      <td>58.0</td>\n",
       "      <td>80.0</td>\n",
       "      <td>65.0</td>\n",
       "      <td>88.0</td>\n",
       "      <td>85.0</td>\n",
       "      <td>88.0</td>\n",
       "      <td>87.0</td>\n",
       "      <td>68.0</td>\n",
       "      <td>88.0</td>\n",
       "    </tr>\n",
       "    <tr>\n",
       "      <th>4</th>\n",
       "      <td>4</td>\n",
       "      <td>M. Neuer</td>\n",
       "      <td>31</td>\n",
       "      <td>https://cdn.sofifa.org/48/18/players/167495.png</td>\n",
       "      <td>Germany</td>\n",
       "      <td>https://cdn.sofifa.org/flags/21.png</td>\n",
       "      <td>92</td>\n",
       "      <td>92</td>\n",
       "      <td>FC Bayern Munich</td>\n",
       "      <td>https://cdn.sofifa.org/24/18/teams/21.png</td>\n",
       "      <td>...</td>\n",
       "      <td>NaN</td>\n",
       "      <td>NaN</td>\n",
       "      <td>NaN</td>\n",
       "      <td>NaN</td>\n",
       "      <td>NaN</td>\n",
       "      <td>NaN</td>\n",
       "      <td>NaN</td>\n",
       "      <td>NaN</td>\n",
       "      <td>NaN</td>\n",
       "      <td>NaN</td>\n",
       "    </tr>\n",
       "    <tr>\n",
       "      <th>5</th>\n",
       "      <td>5</td>\n",
       "      <td>R. Lewandowski</td>\n",
       "      <td>28</td>\n",
       "      <td>https://cdn.sofifa.org/48/18/players/188545.png</td>\n",
       "      <td>Poland</td>\n",
       "      <td>https://cdn.sofifa.org/flags/37.png</td>\n",
       "      <td>91</td>\n",
       "      <td>91</td>\n",
       "      <td>FC Bayern Munich</td>\n",
       "      <td>https://cdn.sofifa.org/24/18/teams/21.png</td>\n",
       "      <td>...</td>\n",
       "      <td>58.0</td>\n",
       "      <td>57.0</td>\n",
       "      <td>78.0</td>\n",
       "      <td>62.0</td>\n",
       "      <td>87.0</td>\n",
       "      <td>82.0</td>\n",
       "      <td>88.0</td>\n",
       "      <td>84.0</td>\n",
       "      <td>61.0</td>\n",
       "      <td>88.0</td>\n",
       "    </tr>\n",
       "    <tr>\n",
       "      <th>6</th>\n",
       "      <td>6</td>\n",
       "      <td>De Gea</td>\n",
       "      <td>26</td>\n",
       "      <td>https://cdn.sofifa.org/48/18/players/193080.png</td>\n",
       "      <td>Spain</td>\n",
       "      <td>https://cdn.sofifa.org/flags/45.png</td>\n",
       "      <td>90</td>\n",
       "      <td>92</td>\n",
       "      <td>Manchester United</td>\n",
       "      <td>https://cdn.sofifa.org/24/18/teams/11.png</td>\n",
       "      <td>...</td>\n",
       "      <td>NaN</td>\n",
       "      <td>NaN</td>\n",
       "      <td>NaN</td>\n",
       "      <td>NaN</td>\n",
       "      <td>NaN</td>\n",
       "      <td>NaN</td>\n",
       "      <td>NaN</td>\n",
       "      <td>NaN</td>\n",
       "      <td>NaN</td>\n",
       "      <td>NaN</td>\n",
       "    </tr>\n",
       "    <tr>\n",
       "      <th>7</th>\n",
       "      <td>7</td>\n",
       "      <td>E. Hazard</td>\n",
       "      <td>26</td>\n",
       "      <td>https://cdn.sofifa.org/48/18/players/183277.png</td>\n",
       "      <td>Belgium</td>\n",
       "      <td>https://cdn.sofifa.org/flags/7.png</td>\n",
       "      <td>90</td>\n",
       "      <td>91</td>\n",
       "      <td>Chelsea</td>\n",
       "      <td>https://cdn.sofifa.org/24/18/teams/5.png</td>\n",
       "      <td>...</td>\n",
       "      <td>59.0</td>\n",
       "      <td>47.0</td>\n",
       "      <td>81.0</td>\n",
       "      <td>61.0</td>\n",
       "      <td>87.0</td>\n",
       "      <td>87.0</td>\n",
       "      <td>82.0</td>\n",
       "      <td>88.0</td>\n",
       "      <td>64.0</td>\n",
       "      <td>82.0</td>\n",
       "    </tr>\n",
       "    <tr>\n",
       "      <th>8</th>\n",
       "      <td>8</td>\n",
       "      <td>T. Kroos</td>\n",
       "      <td>27</td>\n",
       "      <td>https://cdn.sofifa.org/48/18/players/182521.png</td>\n",
       "      <td>Germany</td>\n",
       "      <td>https://cdn.sofifa.org/flags/21.png</td>\n",
       "      <td>90</td>\n",
       "      <td>90</td>\n",
       "      <td>Real Madrid CF</td>\n",
       "      <td>https://cdn.sofifa.org/24/18/teams/243.png</td>\n",
       "      <td>...</td>\n",
       "      <td>76.0</td>\n",
       "      <td>72.0</td>\n",
       "      <td>87.0</td>\n",
       "      <td>82.0</td>\n",
       "      <td>81.0</td>\n",
       "      <td>81.0</td>\n",
       "      <td>77.0</td>\n",
       "      <td>80.0</td>\n",
       "      <td>78.0</td>\n",
       "      <td>77.0</td>\n",
       "    </tr>\n",
       "    <tr>\n",
       "      <th>9</th>\n",
       "      <td>9</td>\n",
       "      <td>G. Higuaín</td>\n",
       "      <td>29</td>\n",
       "      <td>https://cdn.sofifa.org/48/18/players/167664.png</td>\n",
       "      <td>Argentina</td>\n",
       "      <td>https://cdn.sofifa.org/flags/52.png</td>\n",
       "      <td>90</td>\n",
       "      <td>90</td>\n",
       "      <td>Juventus</td>\n",
       "      <td>https://cdn.sofifa.org/24/18/teams/45.png</td>\n",
       "      <td>...</td>\n",
       "      <td>51.0</td>\n",
       "      <td>46.0</td>\n",
       "      <td>71.0</td>\n",
       "      <td>52.0</td>\n",
       "      <td>84.0</td>\n",
       "      <td>79.0</td>\n",
       "      <td>87.0</td>\n",
       "      <td>82.0</td>\n",
       "      <td>55.0</td>\n",
       "      <td>87.0</td>\n",
       "    </tr>\n",
       "  </tbody>\n",
       "</table>\n",
       "<p>10 rows × 75 columns</p>\n",
       "</div>"
      ],
      "text/plain": [
       "   Unnamed: 0               Name  Age  \\\n",
       "0           0  Cristiano Ronaldo   32   \n",
       "1           1           L. Messi   30   \n",
       "2           2             Neymar   25   \n",
       "3           3          L. Suárez   30   \n",
       "4           4           M. Neuer   31   \n",
       "5           5     R. Lewandowski   28   \n",
       "6           6             De Gea   26   \n",
       "7           7          E. Hazard   26   \n",
       "8           8           T. Kroos   27   \n",
       "9           9         G. Higuaín   29   \n",
       "\n",
       "                                             Photo Nationality  \\\n",
       "0   https://cdn.sofifa.org/48/18/players/20801.png    Portugal   \n",
       "1  https://cdn.sofifa.org/48/18/players/158023.png   Argentina   \n",
       "2  https://cdn.sofifa.org/48/18/players/190871.png      Brazil   \n",
       "3  https://cdn.sofifa.org/48/18/players/176580.png     Uruguay   \n",
       "4  https://cdn.sofifa.org/48/18/players/167495.png     Germany   \n",
       "5  https://cdn.sofifa.org/48/18/players/188545.png      Poland   \n",
       "6  https://cdn.sofifa.org/48/18/players/193080.png       Spain   \n",
       "7  https://cdn.sofifa.org/48/18/players/183277.png     Belgium   \n",
       "8  https://cdn.sofifa.org/48/18/players/182521.png     Germany   \n",
       "9  https://cdn.sofifa.org/48/18/players/167664.png   Argentina   \n",
       "\n",
       "                                  Flag  Overall  Potential  \\\n",
       "0  https://cdn.sofifa.org/flags/38.png       94         94   \n",
       "1  https://cdn.sofifa.org/flags/52.png       93         93   \n",
       "2  https://cdn.sofifa.org/flags/54.png       92         94   \n",
       "3  https://cdn.sofifa.org/flags/60.png       92         92   \n",
       "4  https://cdn.sofifa.org/flags/21.png       92         92   \n",
       "5  https://cdn.sofifa.org/flags/37.png       91         91   \n",
       "6  https://cdn.sofifa.org/flags/45.png       90         92   \n",
       "7   https://cdn.sofifa.org/flags/7.png       90         91   \n",
       "8  https://cdn.sofifa.org/flags/21.png       90         90   \n",
       "9  https://cdn.sofifa.org/flags/52.png       90         90   \n",
       "\n",
       "                  Club                                   Club Logo  ...   \\\n",
       "0       Real Madrid CF  https://cdn.sofifa.org/24/18/teams/243.png  ...    \n",
       "1         FC Barcelona  https://cdn.sofifa.org/24/18/teams/241.png  ...    \n",
       "2  Paris Saint-Germain   https://cdn.sofifa.org/24/18/teams/73.png  ...    \n",
       "3         FC Barcelona  https://cdn.sofifa.org/24/18/teams/241.png  ...    \n",
       "4     FC Bayern Munich   https://cdn.sofifa.org/24/18/teams/21.png  ...    \n",
       "5     FC Bayern Munich   https://cdn.sofifa.org/24/18/teams/21.png  ...    \n",
       "6    Manchester United   https://cdn.sofifa.org/24/18/teams/11.png  ...    \n",
       "7              Chelsea    https://cdn.sofifa.org/24/18/teams/5.png  ...    \n",
       "8       Real Madrid CF  https://cdn.sofifa.org/24/18/teams/243.png  ...    \n",
       "9             Juventus   https://cdn.sofifa.org/24/18/teams/45.png  ...    \n",
       "\n",
       "     RB   RCB   RCM   RDM    RF    RM    RS    RW   RWB    ST  \n",
       "0  61.0  53.0  82.0  62.0  91.0  89.0  92.0  91.0  66.0  92.0  \n",
       "1  57.0  45.0  84.0  59.0  92.0  90.0  88.0  91.0  62.0  88.0  \n",
       "2  59.0  46.0  79.0  59.0  88.0  87.0  84.0  89.0  64.0  84.0  \n",
       "3  64.0  58.0  80.0  65.0  88.0  85.0  88.0  87.0  68.0  88.0  \n",
       "4   NaN   NaN   NaN   NaN   NaN   NaN   NaN   NaN   NaN   NaN  \n",
       "5  58.0  57.0  78.0  62.0  87.0  82.0  88.0  84.0  61.0  88.0  \n",
       "6   NaN   NaN   NaN   NaN   NaN   NaN   NaN   NaN   NaN   NaN  \n",
       "7  59.0  47.0  81.0  61.0  87.0  87.0  82.0  88.0  64.0  82.0  \n",
       "8  76.0  72.0  87.0  82.0  81.0  81.0  77.0  80.0  78.0  77.0  \n",
       "9  51.0  46.0  71.0  52.0  84.0  79.0  87.0  82.0  55.0  87.0  \n",
       "\n",
       "[10 rows x 75 columns]"
      ]
     },
     "execution_count": 2,
     "metadata": {},
     "output_type": "execute_result"
    }
   ],
   "source": [
    "FIFA18 = pd.read_csv('./CompleteDataset.csv', low_memory=False)\n",
    "FIFA18.columns\n",
    "\n",
    "FIFA18.head(10)"
   ]
  },
  {
   "cell_type": "markdown",
   "metadata": {},
   "source": [
    "Let's select the most interesting columns from loaded dataset:"
   ]
  },
  {
   "cell_type": "code",
   "execution_count": 3,
   "metadata": {},
   "outputs": [],
   "source": [
    "interesting_columns = [\n",
    "    'Name', \n",
    "    'Age',  \n",
    "    'Nationality', \n",
    "    'Overall', \n",
    "    'Potential', \n",
    "    'Club', \n",
    "    'Value', \n",
    "    'Wage', \n",
    "    'Preferred Positions'\n",
    "]\n",
    "FIFA18 = pd.DataFrame(FIFA18, columns=interesting_columns)"
   ]
  },
  {
   "cell_type": "markdown",
   "metadata": {},
   "source": [
    "### 1.2 Summarize Data"
   ]
  },
  {
   "cell_type": "code",
   "execution_count": 4,
   "metadata": {},
   "outputs": [
    {
     "data": {
      "text/html": [
       "<div>\n",
       "<style scoped>\n",
       "    .dataframe tbody tr th:only-of-type {\n",
       "        vertical-align: middle;\n",
       "    }\n",
       "\n",
       "    .dataframe tbody tr th {\n",
       "        vertical-align: top;\n",
       "    }\n",
       "\n",
       "    .dataframe thead th {\n",
       "        text-align: right;\n",
       "    }\n",
       "</style>\n",
       "<table border=\"1\" class=\"dataframe\">\n",
       "  <thead>\n",
       "    <tr style=\"text-align: right;\">\n",
       "      <th></th>\n",
       "      <th>Name</th>\n",
       "      <th>Age</th>\n",
       "      <th>Nationality</th>\n",
       "      <th>Overall</th>\n",
       "      <th>Potential</th>\n",
       "      <th>Club</th>\n",
       "      <th>Value</th>\n",
       "      <th>Wage</th>\n",
       "      <th>Preferred Positions</th>\n",
       "    </tr>\n",
       "  </thead>\n",
       "  <tbody>\n",
       "    <tr>\n",
       "      <th>0</th>\n",
       "      <td>Cristiano Ronaldo</td>\n",
       "      <td>32</td>\n",
       "      <td>Portugal</td>\n",
       "      <td>94</td>\n",
       "      <td>94</td>\n",
       "      <td>Real Madrid CF</td>\n",
       "      <td>€95.5M</td>\n",
       "      <td>€565K</td>\n",
       "      <td>ST LW</td>\n",
       "    </tr>\n",
       "    <tr>\n",
       "      <th>1</th>\n",
       "      <td>L. Messi</td>\n",
       "      <td>30</td>\n",
       "      <td>Argentina</td>\n",
       "      <td>93</td>\n",
       "      <td>93</td>\n",
       "      <td>FC Barcelona</td>\n",
       "      <td>€105M</td>\n",
       "      <td>€565K</td>\n",
       "      <td>RW</td>\n",
       "    </tr>\n",
       "    <tr>\n",
       "      <th>2</th>\n",
       "      <td>Neymar</td>\n",
       "      <td>25</td>\n",
       "      <td>Brazil</td>\n",
       "      <td>92</td>\n",
       "      <td>94</td>\n",
       "      <td>Paris Saint-Germain</td>\n",
       "      <td>€123M</td>\n",
       "      <td>€280K</td>\n",
       "      <td>LW</td>\n",
       "    </tr>\n",
       "    <tr>\n",
       "      <th>3</th>\n",
       "      <td>L. Suárez</td>\n",
       "      <td>30</td>\n",
       "      <td>Uruguay</td>\n",
       "      <td>92</td>\n",
       "      <td>92</td>\n",
       "      <td>FC Barcelona</td>\n",
       "      <td>€97M</td>\n",
       "      <td>€510K</td>\n",
       "      <td>ST</td>\n",
       "    </tr>\n",
       "    <tr>\n",
       "      <th>4</th>\n",
       "      <td>M. Neuer</td>\n",
       "      <td>31</td>\n",
       "      <td>Germany</td>\n",
       "      <td>92</td>\n",
       "      <td>92</td>\n",
       "      <td>FC Bayern Munich</td>\n",
       "      <td>€61M</td>\n",
       "      <td>€230K</td>\n",
       "      <td>GK</td>\n",
       "    </tr>\n",
       "  </tbody>\n",
       "</table>\n",
       "</div>"
      ],
      "text/plain": [
       "                Name  Age Nationality  Overall  Potential  \\\n",
       "0  Cristiano Ronaldo   32    Portugal       94         94   \n",
       "1           L. Messi   30   Argentina       93         93   \n",
       "2             Neymar   25      Brazil       92         94   \n",
       "3          L. Suárez   30     Uruguay       92         92   \n",
       "4           M. Neuer   31     Germany       92         92   \n",
       "\n",
       "                  Club   Value   Wage Preferred Positions  \n",
       "0       Real Madrid CF  €95.5M  €565K              ST LW   \n",
       "1         FC Barcelona   €105M  €565K                 RW   \n",
       "2  Paris Saint-Germain   €123M  €280K                 LW   \n",
       "3         FC Barcelona    €97M  €510K                 ST   \n",
       "4     FC Bayern Munich    €61M  €230K                 GK   "
      ]
     },
     "execution_count": 4,
     "metadata": {},
     "output_type": "execute_result"
    }
   ],
   "source": [
    "FIFA18.head()"
   ]
  },
  {
   "cell_type": "code",
   "execution_count": 5,
   "metadata": {},
   "outputs": [
    {
     "name": "stdout",
     "output_type": "stream",
     "text": [
      "<class 'pandas.core.frame.DataFrame'>\n",
      "RangeIndex: 17981 entries, 0 to 17980\n",
      "Data columns (total 9 columns):\n",
      "Name                   17981 non-null object\n",
      "Age                    17981 non-null int64\n",
      "Nationality            17981 non-null object\n",
      "Overall                17981 non-null int64\n",
      "Potential              17981 non-null int64\n",
      "Club                   17733 non-null object\n",
      "Value                  17981 non-null object\n",
      "Wage                   17981 non-null object\n",
      "Preferred Positions    17981 non-null object\n",
      "dtypes: int64(3), object(6)\n",
      "memory usage: 1.2+ MB\n"
     ]
    }
   ],
   "source": [
    "FIFA18.info()"
   ]
  },
  {
   "cell_type": "markdown",
   "metadata": {},
   "source": [
    "### 1.3 Preprocess Data\n",
    "Right away I can see that values in columns: 'Value' and 'Wage' aren't numeric but objects. Thus I'll preprocess the data to make it usable. I will use short supporting function to convert values in those two columns into numbers. I will end up with two new columns 'ValueNum' and 'WageNum' that will contain numeric values."
   ]
  },
  {
   "cell_type": "code",
   "execution_count": 6,
   "metadata": {},
   "outputs": [],
   "source": [
    "# Supporting function for converting string values into numbers\n",
    "def str2number(amount):\n",
    "    if amount[-1] == 'M':\n",
    "        return float(amount[1:-1])*1000000\n",
    "    elif amount[-1] == 'K':\n",
    "        return float(amount[1:-1])*1000\n",
    "    else:\n",
    "        return float(amount[1:])\n",
    "    \n",
    "FIFA18['ValueNum'] = FIFA18['Value'].apply(lambda x: str2number(x))\n",
    "FIFA18['WageNum'] = FIFA18['Wage'].apply(lambda x: str2number(x))"
   ]
  },
  {
   "cell_type": "markdown",
   "metadata": {},
   "source": [
    "To make things simpler, I select the first position from list as preferred and save it in 'Position' column."
   ]
  },
  {
   "cell_type": "code",
   "execution_count": 7,
   "metadata": {},
   "outputs": [],
   "source": [
    "FIFA18['Position'] = FIFA18['Preferred Positions'].str.split().str[0]"
   ]
  },
  {
   "cell_type": "markdown",
   "metadata": {},
   "source": [
    "## 2 - Data Visualization\n",
    "### 2.1 Age"
   ]
  },
  {
   "cell_type": "code",
   "execution_count": 8,
   "metadata": {},
   "outputs": [
    {
     "data": {
      "image/png": "[encoded data removed]",
      "text/plain": [
       "<matplotlib.figure.Figure at 0x235d55bccf8>"
      ]
     },
     "metadata": {},
     "output_type": "display_data"
    }
   ],
   "source": [
    "plt.figure(figsize=(16,8))\n",
    "sns.set_style(\"whitegrid\")\n",
    "plt.title('Grouping players by Age', fontsize=30, fontweight='bold', y=1.05,)\n",
    "plt.xlabel('Number of players', fontsize=25)\n",
    "plt.ylabel('Players Age', fontsize=25)\n",
    "sns.countplot(x=\"Age\", data=FIFA18, palette=\"hls\");\n",
    "plt.show()"
   ]
  },
  {
   "cell_type": "markdown",
   "metadata": {},
   "source": [
    "### 2.2 Overall"
   ]
  },
  {
   "cell_type": "code",
   "execution_count": 9,
   "metadata": {},
   "outputs": [
    {
     "data": {
      "image/png": "[encoded data removed]",
      "text/plain": [
       "<matplotlib.figure.Figure at 0x235d54af710>"
      ]
     },
     "metadata": {},
     "output_type": "display_data"
    }
   ],
   "source": [
    "plt.figure(figsize=(16,8))\n",
    "sns.set_style(\"whitegrid\")\n",
    "plt.title('Grouping players by Overall', fontsize=30, fontweight='bold', y=1.05,)\n",
    "plt.xlabel('Number of players', fontsize=25)\n",
    "plt.ylabel('Players Age', fontsize=25)\n",
    "sns.countplot(x=\"Overall\", data=FIFA18, palette=\"hls\");\n",
    "plt.show()"
   ]
  },
  {
   "cell_type": "markdown",
   "metadata": {},
   "source": [
    "### 2.3 Preferred Position"
   ]
  },
  {
   "cell_type": "code",
   "execution_count": 10,
   "metadata": {},
   "outputs": [
    {
     "data": {
      "image/png": "[encoded data removed]",
      "text/plain": [
       "<matplotlib.figure.Figure at 0x235d539f438>"
      ]
     },
     "metadata": {},
     "output_type": "display_data"
    }
   ],
   "source": [
    "plt.figure(figsize=(16,8))\n",
    "sns.set_style(\"whitegrid\")\n",
    "plt.title('Grouping players by Preferred Position', fontsize=30, fontweight='bold', y=1.05,)\n",
    "plt.xlabel('Number of players', fontsize=25)\n",
    "plt.ylabel('Players Age', fontsize=25)\n",
    "sns.countplot(x=\"Position\", data=FIFA18, palette=\"hls\");\n",
    "plt.show()"
   ]
  },
  {
   "cell_type": "markdown",
   "metadata": {},
   "source": [
    "### 2.4 Nationality"
   ]
  },
  {
   "cell_type": "code",
   "execution_count": null,
   "metadata": {},
   "outputs": [],
   "source": [
    "# Grouping the data by countries\n",
    "valcon = FIFA18.groupby(\"Nationality\").size().reset_index(name=\"Count\")\n",
    "\n",
    "# Plotting the choropleth map\n",
    "init_notebook_mode()\n",
    "plotmap = [ dict(\n",
    "        type = 'choropleth',\n",
    "        locations = valcon[\"Nationality\"],\n",
    "        locationmode = 'country names',\n",
    "        z = valcon[\"Count\"],\n",
    "        text = valcon[\"Nationality\"],\n",
    "        autocolorscale = True,\n",
    "        reversescale = False,\n",
    "        marker = dict(\n",
    "            line = dict (\n",
    "                color = 'rgb(180,180,180)',\n",
    "                width = 0.5\n",
    "            ) ),\n",
    "        colorbar = dict(\n",
    "            title = \"Amount of Players\"),\n",
    "      ) ]\n",
    "\n",
    "layout = dict(\n",
    "    title = \"Nationalities of FIFA 18 Players\",\n",
    "    geo = dict(\n",
    "        showframe = False,\n",
    "        showcoastlines = False,\n",
    "        projection = dict(\n",
    "            type = 'Mercator'\n",
    "        )\n",
    "    )\n",
    ")\n",
    "\n",
    "fig = dict( data=plotmap, layout=layout)\n",
    "iplot(fig)"
   ]
  },
  {
   "cell_type": "markdown",
   "metadata": {},
   "source": [
    "In case the plot.ly image doesn't show:\n",
    "\n",
    "![nationalities](images/Nationalities.png)"
   ]
  },
  {
   "cell_type": "code",
   "execution_count": null,
   "metadata": {},
   "outputs": [],
   "source": [
    "FIFA18[\"Nationality\"].value_counts().head(25)"
   ]
  },
  {
   "cell_type": "markdown",
   "metadata": {},
   "source": [
    "I can see that the players are very centralized in Europe. To be precise, England, Germany, Spain, and France.\n",
    "\n",
    "### 2.5 Value\n",
    "Let's see the 20 players with highest value:"
   ]
  },
  {
   "cell_type": "code",
   "execution_count": null,
   "metadata": {},
   "outputs": [],
   "source": [
    "sorted_players = FIFA18.sort_values([\"ValueNum\"], ascending=False).head(20)\n",
    "players = sorted_players[[\"Name\" ,\"Age\" ,\"Nationality\" ,\"Club\" ,\"Position\" ,\"Value\"]].values"
   ]
  },
  {
   "cell_type": "code",
   "execution_count": null,
   "metadata": {},
   "outputs": [],
   "source": [
    "from IPython.display import HTML, display\n",
    "\n",
    "table_content = ''\n",
    "for row in players:\n",
    "    HTML_row = '<tr>'\n",
    "    HTML_row += '<td>' + str(row[0]) + '</td>'\n",
    "    HTML_row += '<td>' + str(row[1]) + '</td>'\n",
    "    HTML_row += '<td>' + str(row[2]) + '</td>'\n",
    "    HTML_row += '<td>' + str(row[3]) + '</td>'\n",
    "    HTML_row += '<td>' + str(row[4]) + '</td>'\n",
    "    HTML_row += '<td>' + str(row[5]) + '</td>'\n",
    "    \n",
    "    table_content += HTML_row + '</tr>'\n",
    "\n",
    "display(HTML(\n",
    "    '<table><tr><th>Name</th><th>Age</th><th>Nationality</th><th>Club</th><th>Position</th><th>Value</th></tr>{}</table>'.format(table_content))\n",
    ")"
   ]
  },
  {
   "cell_type": "markdown",
   "metadata": {},
   "source": [
    "Let's make a scatter chart of the players' Value with respect to their Age and Overall:"
   ]
  },
  {
   "cell_type": "code",
   "execution_count": null,
   "metadata": {},
   "outputs": [],
   "source": [
    "plt.figure(figsize=(16,8))\n",
    "sns.set_style(\"whitegrid\")\n",
    "plt.title('Players Value according to their Age and Overall', fontsize=30, fontweight='bold', y=1.05,)\n",
    "plt.xlabel('Age', fontsize=25)\n",
    "plt.ylabel('Overall', fontsize=25)\n",
    "\n",
    "age = FIFA18[\"Age\"].values\n",
    "overall = FIFA18[\"Overall\"].values\n",
    "value = FIFA18[\"ValueNum\"].values\n",
    "\n",
    "plt.scatter(age, overall, s = value/100000, edgecolors='black')\n",
    "plt.show()"
   ]
  },
  {
   "cell_type": "markdown",
   "metadata": {},
   "source": [
    "### 2.6 Wage\n",
    "Let's see the 20 players with highest wage:"
   ]
  },
  {
   "cell_type": "code",
   "execution_count": null,
   "metadata": {},
   "outputs": [],
   "source": [
    "sorted_players = FIFA18.sort_values([\"WageNum\"], ascending=False).head(20)\n",
    "players = sorted_players[[\"Name\" ,\"Age\" ,\"Nationality\" ,\"Club\" ,\"Position\" ,\"Wage\"]].values"
   ]
  },
  {
   "cell_type": "code",
   "execution_count": null,
   "metadata": {},
   "outputs": [],
   "source": [
    "from IPython.display import HTML, display\n",
    "\n",
    "table_content = ''\n",
    "for row in players:\n",
    "    HTML_row = '<tr>'\n",
    "    HTML_row += '<td>' + str(row[0]) + '</td>'\n",
    "    HTML_row += '<td>' + str(row[1]) + '</td>'\n",
    "    HTML_row += '<td>' + str(row[2]) + '</td>'\n",
    "    HTML_row += '<td>' + str(row[3]) + '</td>'\n",
    "    HTML_row += '<td>' + str(row[4]) + '</td>'\n",
    "    HTML_row += '<td>' + str(row[5]) + '</td>'\n",
    "    \n",
    "    table_content += HTML_row + '</tr>'\n",
    "\n",
    "display(HTML(\n",
    "    '<table><tr><th>Name</th><th>Age</th><th>Nationality</th><th>Club</th><th>Position</th><th>Wage</th></tr>{}</table>'.format(table_content))\n",
    ")"
   ]
  },
  {
   "cell_type": "markdown",
   "metadata": {},
   "source": [
    "Let's make a scatter chart of the players' Wage with respect to their Age and Overall:"
   ]
  },
  {
   "cell_type": "code",
   "execution_count": null,
   "metadata": {},
   "outputs": [],
   "source": [
    "plt.figure(figsize=(16,8))\n",
    "sns.set_style(\"whitegrid\")\n",
    "plt.title('Players Wage according to their Age and Overall', fontsize=30, fontweight='bold', y=1.05,)\n",
    "plt.xlabel('Age', fontsize=25)\n",
    "plt.ylabel('Overall', fontsize=25)\n",
    "\n",
    "age = FIFA18[\"Age\"].values\n",
    "overall = FIFA18[\"Overall\"].values\n",
    "value = FIFA18[\"WageNum\"].values\n",
    "\n",
    "plt.scatter(age, overall, s = value/500, edgecolors='black', color=\"red\")\n",
    "plt.show()"
   ]
  },
  {
   "cell_type": "markdown",
   "metadata": {},
   "source": [
    "## 3 - Best Squad Analysis\n",
    "For simplicity of this analysis, I only pull in data I am interested in:"
   ]
  },
  {
   "cell_type": "code",
   "execution_count": null,
   "metadata": {},
   "outputs": [],
   "source": [
    "FIFA18 = FIFA18[['Name', 'Age', 'Nationality', 'Overall', 'Potential', 'Club', 'Position', 'Value', 'Wage']]\n",
    "FIFA18.head(10)"
   ]
  },
  {
   "cell_type": "markdown",
   "metadata": {},
   "source": [
    "### 3.1 Squad of Highest Overall Players\n",
    "What's the best squad according to FIFA 18 purely based on overall rating?"
   ]
  },
  {
   "cell_type": "code",
   "execution_count": null,
   "metadata": {},
   "outputs": [],
   "source": [
    "def get_best_squad(formation):\n",
    "    FIFA18_copy = FIFA18.copy()\n",
    "    store = []\n",
    "    \n",
    "    # iterate through all positions in the input formation and get players with highest overall respective to the position\n",
    "    for i in formation:\n",
    "        store.append([\n",
    "            i,\n",
    "            FIFA18_copy.loc[[FIFA18_copy[FIFA18_copy['Position'] == i]['Overall'].idxmax()]]['Name'].to_string(index = False),\n",
    "            FIFA18_copy[FIFA18_copy['Position'] == i]['Overall'].max(),\n",
    "            FIFA18_copy.loc[[FIFA18_copy[FIFA18_copy['Position'] == i]['Overall'].idxmax()]]['Age'].to_string(index = False),\n",
    "            FIFA18_copy.loc[[FIFA18_copy[FIFA18_copy['Position'] == i]['Overall'].idxmax()]]['Club'].to_string(index = False),\n",
    "            FIFA18_copy.loc[[FIFA18_copy[FIFA18_copy['Position'] == i]['Overall'].idxmax()]]['Value'].to_string(index = False),\n",
    "            FIFA18_copy.loc[[FIFA18_copy[FIFA18_copy['Position'] == i]['Overall'].idxmax()]]['Wage'].to_string(index = False)\n",
    "        ])\n",
    "                      \n",
    "        FIFA18_copy.drop(FIFA18_copy[FIFA18_copy['Position'] == i]['Overall'].idxmax(), \n",
    "                         inplace = True)\n",
    "    \n",
    "    # return store with only necessary columns\n",
    "    return pd.DataFrame(np.array(store).reshape(11,7), \n",
    "                        columns = ['Position', 'Player', 'Overall', 'Age', 'Club', 'Value', 'Wage']).to_string(index = False)"
   ]
  },
  {
   "cell_type": "code",
   "execution_count": null,
   "metadata": {},
   "outputs": [],
   "source": [
    "# 4-3-3\n",
    "squad_433 = ['GK', 'RB', 'CB', 'CB', 'LB', 'CDM', 'CM', 'CAM', 'RW', 'ST', 'LW']\n",
    "print ('4-3-3')\n",
    "print (get_best_squad(squad_433))"
   ]
  },
  {
   "cell_type": "code",
   "execution_count": null,
   "metadata": {},
   "outputs": [],
   "source": [
    "# 4-4-2\n",
    "squad_442 = ['GK', 'RB', 'CB', 'CB', 'LB', 'RM', 'CM', 'CM', 'LM', 'ST', 'ST']\n",
    "print ('4-4-2')\n",
    "print (get_best_squad(squad_442))"
   ]
  },
  {
   "cell_type": "code",
   "execution_count": null,
   "metadata": {},
   "outputs": [],
   "source": [
    "# 4-2-3-1\n",
    "squad_4231 = ['GK', 'RB', 'CB', 'CB', 'LB', 'CDM', 'CDM', 'CAM', 'CAM', 'CAM', 'ST']\n",
    "print ('4-2-3-1')\n",
    "print (get_best_squad(squad_4231))"
   ]
  },
  {
   "cell_type": "markdown",
   "metadata": {},
   "source": [
    "Alright, now let's move onto studying different squad's impact on Nationality teams. First let's modifiy above get_summary and get_best_squad functions for Nationality:"
   ]
  },
  {
   "cell_type": "code",
   "execution_count": null,
   "metadata": {},
   "outputs": [],
   "source": [
    "def get_best_squad_n(formation, nationality, measurement = 'Overall'):\n",
    "    FIFA18_copy = FIFA18.copy()\n",
    "    FIFA18_copy = FIFA18_copy[FIFA18_copy['Nationality'] == nationality]\n",
    "    store = []\n",
    "    \n",
    "    for i in formation:\n",
    "        store.append([\n",
    "            FIFA18_copy.loc[[FIFA18_copy[FIFA18_copy['Position'].str.contains(i)][measurement].idxmax()]]['Position'].to_string(index = False),\n",
    "            FIFA18_copy.loc[[FIFA18_copy[FIFA18_copy['Position'].str.contains(i)][measurement].idxmax()]]['Name'].to_string(index = False), \n",
    "            FIFA18_copy[FIFA18_copy['Position'].str.contains(i)][measurement].max(),\n",
    "            FIFA18_copy.loc[[FIFA18_copy[FIFA18_copy['Position'].str.contains(i)][measurement].idxmax()]]['Age'].to_string(index = False),\n",
    "            FIFA18_copy.loc[[FIFA18_copy[FIFA18_copy['Position'].str.contains(i)][measurement].idxmax()]]['Club'].to_string(index = False),\n",
    "            FIFA18_copy.loc[[FIFA18_copy[FIFA18_copy['Position'].str.contains(i)][measurement].idxmax()]]['Value'].to_string(index = False),\n",
    "            FIFA18_copy.loc[[FIFA18_copy[FIFA18_copy['Position'].str.contains(i)][measurement].idxmax()]]['Wage'].to_string(index = False)\n",
    "        ])\n",
    "        \n",
    "        FIFA18_copy.drop(FIFA18_copy[FIFA18_copy['Position'].str.contains(i)][measurement].idxmax(), \n",
    "                         inplace = True)\n",
    "    \n",
    "    return np.mean([x[2] for x in store]).round(2), pd.DataFrame(np.array(store).reshape(11,7), \n",
    "                                                                 columns = ['Position', 'Player', measurement, 'Age', 'Club', 'Value', 'Wage']).to_string(index = False)"
   ]
  },
  {
   "cell_type": "code",
   "execution_count": null,
   "metadata": {},
   "outputs": [],
   "source": [
    "def get_summary_n(squad_list, squad_name, nationality_list):\n",
    "    summary = []\n",
    "\n",
    "    for i in nationality_list:\n",
    "        count = 0\n",
    "        for j in squad_list:\n",
    "            \n",
    "            # for overall rating\n",
    "            O_temp_rating, _  = get_best_squad_n(formation = j, nationality = i, measurement = 'Overall')\n",
    "            \n",
    "            # for potential rating & corresponding value\n",
    "            P_temp_rating, _ = get_best_squad_n(formation = j, nationality = i, measurement = 'Potential')\n",
    "            \n",
    "            summary.append([i, squad_name[count], O_temp_rating.round(2), P_temp_rating.round(2)])    \n",
    "            count += 1\n",
    "    \n",
    "    return summary"
   ]
  },
  {
   "cell_type": "markdown",
   "metadata": {},
   "source": [
    "Also let's make our squad choices more strict:"
   ]
  },
  {
   "cell_type": "code",
   "execution_count": null,
   "metadata": {},
   "outputs": [],
   "source": [
    "squad_343_strict = ['GK', 'CB', 'CB', 'CB', 'RB|RWB', 'CM|CDM', 'CM|CDM', 'LB|LWB', 'RM|RW', 'ST|CF', 'LM|LW']\n",
    "squad_442_strict = ['GK', 'RB|RWB', 'CB', 'CB', 'LB|LWB', 'RM', 'CM|CDM', 'CM|CAM', 'LM', 'ST|CF', 'ST|CF']\n",
    "squad_4312_strict = ['GK', 'RB|RWB', 'CB', 'CB', 'LB|LWB', 'CM|CDM', 'CM|CAM|CDM', 'CM|CAM|CDM', 'CAM|CF', 'ST|CF', 'ST|CF']\n",
    "squad_433_strict = ['GK', 'RB|RWB', 'CB', 'CB', 'LB|LWB', 'CM|CDM', 'CM|CAM|CDM', 'CM|CAM|CDM', 'RM|RW', 'ST|CF', 'LM|LW']\n",
    "squad_4231_strict = ['GK', 'RB|RWB', 'CB', 'CB', 'LB|LWB', 'CM|CDM', 'CM|CDM', 'RM|RW', 'CAM', 'LM|LW', 'ST|CF']"
   ]
  },
  {
   "cell_type": "code",
   "execution_count": null,
   "metadata": {},
   "outputs": [],
   "source": [
    "squad_list = [squad_343_strict, squad_442_strict, squad_4312_strict, squad_433_strict, squad_4231_strict]\n",
    "squad_name = ['3-4-3', '4-4-2', '4-3-1-2', '4-3-3', '4-2-3-1']"
   ]
  },
  {
   "cell_type": "markdown",
   "metadata": {},
   "source": [
    "### 3.2 France\n",
    "Let's explore different squad possibility of France and how it affects the ratings:"
   ]
  },
  {
   "cell_type": "code",
   "execution_count": null,
   "metadata": {},
   "outputs": [],
   "source": [
    "France = pd.DataFrame(np.array(get_summary_n(squad_list, squad_name, ['France'])).reshape(-1,4), columns = ['Nationality', 'Squad', 'Overall', 'Potential'])\n",
    "France.set_index('Nationality', inplace = True)\n",
    "France[['Overall', 'Potential']] = France[['Overall', 'Potential']].astype(float)\n",
    "\n",
    "print (France)"
   ]
  },
  {
   "cell_type": "markdown",
   "metadata": {},
   "source": [
    "So we can say that France has the best squard as 4-3-3 for the current squad; and 4-4-2, 4-3-3, and 4-2-3-1 for the future squad based on team ratings. Let's check out the best 11 squad line-up of France in 4-3-3 for current rating as well as 4-4-2 for potential rating:"
   ]
  },
  {
   "cell_type": "code",
   "execution_count": null,
   "metadata": {},
   "outputs": [],
   "source": [
    "rating_433_FR_Overall, best_list_433_FR_Overall = get_best_squad_n(squad_433_strict, 'France', 'Overall')\n",
    "print('-Overall-')\n",
    "print('Average rating: {:.1f}'.format(rating_433_FR_Overall))\n",
    "print(best_list_433_FR_Overall)"
   ]
  },
  {
   "cell_type": "code",
   "execution_count": null,
   "metadata": {},
   "outputs": [],
   "source": [
    "rating_442_FR_Potential, best_list_442_FR_Potential = get_best_squad_n(squad_442_strict, 'France', 'Potential')\n",
    "print('-Potential-')\n",
    "print('Average rating: {:.1f}'.format(rating_442_FR_Potential))\n",
    "print(best_list_442_FR_Potential)"
   ]
  },
  {
   "cell_type": "markdown",
   "metadata": {
    "collapsed": true
   },
   "source": [
    "![griezmann](images/griezmann.jpeg)\n",
    "\n",
    "### 3.3 Germany\n",
    "The holding champion is certainly a heavy candidate for this year's 1st place:"
   ]
  },
  {
   "cell_type": "code",
   "execution_count": null,
   "metadata": {},
   "outputs": [],
   "source": [
    "Germany = pd.DataFrame(np.array(get_summary_n(squad_list, squad_name, ['Germany'])).reshape(-1,4), columns = ['Nationality', 'Squad', 'Overall', 'Potential'])\n",
    "Germany.set_index('Nationality', inplace = True)\n",
    "Germany[['Overall', 'Potential']] = Germany[['Overall', 'Potential']].astype(float)\n",
    "\n",
    "print (Germany)"
   ]
  },
  {
   "cell_type": "markdown",
   "metadata": {},
   "source": [
    "As you can see, Germany's current ratings peak with either 3-4-3 or 4-3-3 formation; while those 2 plus 4-2-3-1 are their best options for the future. With that, I'll show Germany's best 11 squad with 4-3-3 for current ratings and 4-2-3-1 for potential ratings."
   ]
  },
  {
   "cell_type": "code",
   "execution_count": null,
   "metadata": {},
   "outputs": [],
   "source": [
    "rating_433_GER_Overall, best_list_433_GER_Overall = get_best_squad_n(squad_433_strict, 'Germany', 'Overall')\n",
    "print('-Overall-')\n",
    "print('Average rating: {:.1f}'.format(rating_433_GER_Overall))\n",
    "print(best_list_433_GER_Overall)"
   ]
  },
  {
   "cell_type": "code",
   "execution_count": null,
   "metadata": {},
   "outputs": [],
   "source": [
    "rating_4231_GER_Potential, best_list_4231_GER_Potential = get_best_squad_n(squad_4231_strict, 'Germany', 'Potential')\n",
    "print('-Potential-')\n",
    "print('Average rating: {:.1f}'.format(rating_4231_GER_Potential))\n",
    "print(best_list_4231_GER_Potential)"
   ]
  },
  {
   "cell_type": "markdown",
   "metadata": {},
   "source": [
    "![kroos](images/kroos.jpeg)\n",
    "\n",
    "### 3.4 Spain\n",
    "How about our 2010's winner?"
   ]
  },
  {
   "cell_type": "code",
   "execution_count": null,
   "metadata": {},
   "outputs": [],
   "source": [
    "Spain = pd.DataFrame(np.array(get_summary_n(squad_list, squad_name, ['Spain'])).reshape(-1,4), columns = ['Nationality', 'Squad', 'Overall', 'Potential'])\n",
    "Spain.set_index('Nationality', inplace = True)\n",
    "Spain[['Overall', 'Potential']] = Spain[['Overall', 'Potential']].astype(float)\n",
    "\n",
    "print (Spain)"
   ]
  },
  {
   "cell_type": "markdown",
   "metadata": {},
   "source": [
    "Well, Spain does best with either 4-3-3 or 4-2-3-1 for both current and potential rating. I'll choose 4-2-3-1 for the current squad and 4-3-3 for the potential squad."
   ]
  },
  {
   "cell_type": "code",
   "execution_count": null,
   "metadata": {},
   "outputs": [],
   "source": [
    "rating_4231_ESP_Overall, best_list_4231_ESP_Overall = get_best_squad_n(squad_4231_strict, 'Spain', 'Overall')\n",
    "print('-Overall-')\n",
    "print('Average rating: {:.1f}'.format(rating_4231_ESP_Overall))\n",
    "print(best_list_4231_ESP_Overall)"
   ]
  },
  {
   "cell_type": "code",
   "execution_count": null,
   "metadata": {},
   "outputs": [],
   "source": [
    "rating_433_ESP_Potential, best_list_433_ESP_Potential = get_best_squad_n(squad_433_strict, 'Spain', 'Potential')\n",
    "print('-Potential-')\n",
    "print('Average rating: {:.1f}'.format(rating_433_ESP_Potential))\n",
    "print(best_list_433_ESP_Potential)"
   ]
  },
  {
   "cell_type": "markdown",
   "metadata": {},
   "source": [
    "![ramos](images/ramos.jpg)\n",
    "\n",
    "### 3.5 England\n",
    "Although having the best soccer league in Europe, England did not seem to do that well at the national level. Let's figure out their options for the upcoming World Cup:"
   ]
  },
  {
   "cell_type": "code",
   "execution_count": null,
   "metadata": {},
   "outputs": [],
   "source": [
    "England = pd.DataFrame(np.array(get_summary_n(squad_list, squad_name, ['England'])).reshape(-1,4), columns = ['Nationality', 'Squad', 'Overall', 'Potential'])\n",
    "England.set_index('Nationality', inplace = True)\n",
    "England[['Overall', 'Potential']] = England[['Overall', 'Potential']].astype(float)\n",
    "\n",
    "print (England)"
   ]
  },
  {
   "cell_type": "markdown",
   "metadata": {},
   "source": [
    "England should stick to 4-3-3 with their current squad and either 4-3-3 or 4-2-3-1 with their potential squad. Thus, I'll choose 4-3-3 and 4-2-3-1 respectively."
   ]
  },
  {
   "cell_type": "code",
   "execution_count": null,
   "metadata": {},
   "outputs": [],
   "source": [
    "rating_433_ENG_Overall, best_list_433_ENG_Overall = get_best_squad_n(squad_433_strict, 'England', 'Overall')\n",
    "print('-Overall-')\n",
    "print('Average rating: {:.1f}'.format(rating_433_ENG_Overall))\n",
    "print(best_list_433_ENG_Overall)"
   ]
  },
  {
   "cell_type": "code",
   "execution_count": null,
   "metadata": {},
   "outputs": [],
   "source": [
    "rating_4231_ENG_Potential, best_list_4231_ENG_Potential = get_best_squad_n(squad_4231_strict, 'England', 'Potential')\n",
    "print('-Potential-')\n",
    "print('Average rating: {:.1f}'.format(rating_4231_ENG_Potential))\n",
    "print(best_list_4231_ENG_Potential)"
   ]
  },
  {
   "cell_type": "markdown",
   "metadata": {},
   "source": [
    "![kane](images/kane.jpg)\n",
    "\n",
    "### 3.6 Brazil\n",
    "Having won the World Cup the most times in history, the Samba team will no doubt be one of the top candidates for this summer in Russia."
   ]
  },
  {
   "cell_type": "code",
   "execution_count": null,
   "metadata": {},
   "outputs": [],
   "source": [
    "Brazil = pd.DataFrame(np.array(get_summary_n(squad_list, squad_name, ['Brazil'])).reshape(-1,4), columns = ['Nationality', 'Squad', 'Overall', 'Potential'])\n",
    "Brazil.set_index('Nationality', inplace = True)\n",
    "Brazil[['Overall', 'Potential']] = Brazil[['Overall', 'Potential']].astype(float)\n",
    "\n",
    "print (Brazil)"
   ]
  },
  {
   "cell_type": "markdown",
   "metadata": {},
   "source": [
    "As you can see, Brazil has similar options like England. I'll go with 4-3-3 for the current rating and 4-2-3-1 for the potential rating."
   ]
  },
  {
   "cell_type": "code",
   "execution_count": null,
   "metadata": {},
   "outputs": [],
   "source": [
    "rating_433_BRA_Overall, best_list_433_BRA_Overall = get_best_squad_n(squad_433_strict, 'Brazil', 'Overall')\n",
    "print('-Overall-')\n",
    "print('Average rating: {:.1f}'.format(rating_433_BRA_Overall))\n",
    "print(best_list_433_BRA_Overall)"
   ]
  },
  {
   "cell_type": "code",
   "execution_count": null,
   "metadata": {},
   "outputs": [],
   "source": [
    "rating_4231_BRA_Potential, best_list_4231_BRA_Potential = get_best_squad_n(squad_4231_strict, 'Brazil', 'Potential')\n",
    "print('-Potential-')\n",
    "print('Average rating: {:.1f}'.format(rating_4231_BRA_Potential))\n",
    "print(best_list_4231_BRA_Potential)"
   ]
  },
  {
   "cell_type": "markdown",
   "metadata": {},
   "source": [
    "![neymar](images/neymar.jpg)\n",
    "\n",
    "### 3.7 Argentina\n",
    "Lionel Messi is still waiting for the only trophy he hasn't gotten yet in his career. Can he carry Argentina to the top after going short in the final 4 years ago?"
   ]
  },
  {
   "cell_type": "code",
   "execution_count": null,
   "metadata": {},
   "outputs": [],
   "source": [
    "Argentina = pd.DataFrame(np.array(get_summary_n(squad_list, squad_name, ['Argentina'])).reshape(-1,4), columns = ['Nationality', 'Squad', 'Overall', 'Potential'])\n",
    "Argentina.set_index('Nationality', inplace = True)\n",
    "Argentina[['Overall', 'Potential']] = Argentina[['Overall', 'Potential']].astype(float)\n",
    "\n",
    "print (Argentina)"
   ]
  },
  {
   "cell_type": "markdown",
   "metadata": {},
   "source": [
    "Both 3-4-3 and 4-3-3 fare very well for the current and potential ratings of Argentine players. For the sake of diversity, I'll choose 3-4-3 for their current squad and 4-3-3 for their future squad."
   ]
  },
  {
   "cell_type": "code",
   "execution_count": null,
   "metadata": {},
   "outputs": [],
   "source": [
    "rating_343_ARG_Overall, best_list_343_ARG_Overall = get_best_squad_n(squad_343_strict, 'Argentina', 'Overall')\n",
    "print('-Overall-')\n",
    "print('Average rating: {:.1f}'.format(rating_343_ARG_Overall))\n",
    "print(best_list_343_ARG_Overall)"
   ]
  },
  {
   "cell_type": "code",
   "execution_count": null,
   "metadata": {},
   "outputs": [],
   "source": [
    "rating_433_ARG_Potential, best_list_433_ARG_Potential = get_best_squad_n(squad_433_strict, 'Argentina', 'Potential')\n",
    "print('-Potential-')\n",
    "print('Average rating: {:.1f}'.format(rating_433_ARG_Potential))\n",
    "print(best_list_433_ARG_Potential)"
   ]
  },
  {
   "cell_type": "markdown",
   "metadata": {},
   "source": [
    "![messi](images/messi.jpg)\n",
    "\n",
    "### 3.8 Belgium\n",
    "The Red Devils has some of the best players in English Premier League, but can't never seem to make it far in the national level. Can Hazard and De Bruyne drive them far this time?"
   ]
  },
  {
   "cell_type": "code",
   "execution_count": null,
   "metadata": {},
   "outputs": [],
   "source": [
    "Belgium = pd.DataFrame(np.array(get_summary_n(squad_list, squad_name, ['Belgium'])).reshape(-1,4), columns = ['Nationality', 'Squad', 'Overall', 'Potential'])\n",
    "Belgium.set_index('Nationality', inplace = True)\n",
    "Belgium[['Overall', 'Potential']] = Belgium[['Overall', 'Potential']].astype(float)\n",
    "\n",
    "print (Belgium)"
   ]
  },
  {
   "cell_type": "markdown",
   "metadata": {},
   "source": [
    "Again, 4-3-3 is the best formation for Belgium's both current and future squad."
   ]
  },
  {
   "cell_type": "code",
   "execution_count": null,
   "metadata": {},
   "outputs": [],
   "source": [
    "rating_433_BEL_Overall, best_list_433_BEL_Overall = get_best_squad_n(squad_433_strict, 'Belgium', 'Overall')\n",
    "print('-Overall-')\n",
    "print('Average rating: {:.1f}'.format(rating_433_BEL_Overall))\n",
    "print(best_list_433_BEL_Overall)"
   ]
  },
  {
   "cell_type": "code",
   "execution_count": null,
   "metadata": {},
   "outputs": [],
   "source": [
    "rating_433_BEL_Potential, best_list_433_BEL_Potential = get_best_squad_n(squad_433_strict, 'Belgium', 'Potential')\n",
    "print('-Potential-')\n",
    "print('Average rating: {:.1f}'.format(rating_433_BEL_Potential))\n",
    "print(best_list_433_BEL_Potential)"
   ]
  },
  {
   "cell_type": "markdown",
   "metadata": {},
   "source": [
    "![de-bruyne](images/de-bruyne.jpg)\n",
    "\n",
    "### 3.9 - Portugal\n",
    "The winner of Euro 2016 and the best player in the world 3 times in a row, Cristiano Ronaldo, has a real chance in this tournament as well."
   ]
  },
  {
   "cell_type": "code",
   "execution_count": null,
   "metadata": {},
   "outputs": [],
   "source": [
    "Portugal = pd.DataFrame(np.array(get_summary_n(squad_list, squad_name, ['Portugal'])).reshape(-1,4), columns = ['Nationality', 'Squad', 'Overall', 'Potential'])\n",
    "Portugal.set_index('Nationality', inplace = True)\n",
    "Portugal[['Overall', 'Potential']] = Portugal[['Overall', 'Potential']].astype(float)\n",
    "\n",
    "print (Portugal)"
   ]
  },
  {
   "cell_type": "markdown",
   "metadata": {},
   "source": [
    "OK, I'll go with 4-2-3-1 for current rating and 4-3-3 for potential rating of Portugal."
   ]
  },
  {
   "cell_type": "code",
   "execution_count": null,
   "metadata": {},
   "outputs": [],
   "source": [
    "rating_4231_POR_Overall, best_list_4231_POR_Overall = get_best_squad_n(squad_4231_strict, 'Portugal', 'Overall')\n",
    "print('-Overall-')\n",
    "print('Average rating: {:.1f}'.format(rating_4231_POR_Overall))\n",
    "print(best_list_4231_POR_Overall)"
   ]
  },
  {
   "cell_type": "code",
   "execution_count": null,
   "metadata": {},
   "outputs": [],
   "source": [
    "rating_433_POR_Potential, best_list_433_POR_Potential = get_best_squad_n(squad_433_strict, 'Portugal', 'Potential')\n",
    "print('-Potential-')\n",
    "print('Average rating: {:.1f}'.format(rating_433_POR_Potential))\n",
    "print(best_list_433_POR_Potential)"
   ]
  },
  {
   "cell_type": "markdown",
   "metadata": {},
   "source": [
    "![ronaldo](images/ronaldo.jpg)\n",
    "\n",
    "### 3.10 - Uruguay\n",
    "Uruguay has the 2 best strikers in Europe: Suarez & Cavani. Can they perform this time?"
   ]
  },
  {
   "cell_type": "code",
   "execution_count": null,
   "metadata": {},
   "outputs": [],
   "source": [
    "Uruguay = pd.DataFrame(np.array(get_summary_n(squad_list, squad_name, ['Uruguay'])).reshape(-1,4), columns = ['Nationality', 'Squad', 'Overall', 'Potential'])\n",
    "Uruguay.set_index('Nationality', inplace = True)\n",
    "Uruguay[['Overall', 'Potential']] = Uruguay[['Overall', 'Potential']].astype(float)\n",
    "\n",
    "print (Uruguay)"
   ]
  },
  {
   "cell_type": "markdown",
   "metadata": {},
   "source": [
    "Fantastic, Uruguay does best with a 4-3-1-2 for current rating and 4-4-2 for future rating."
   ]
  },
  {
   "cell_type": "code",
   "execution_count": null,
   "metadata": {},
   "outputs": [],
   "source": [
    "rating_4312_URG_Overall, best_list_4312_URG_Overall = get_best_squad_n(squad_4312_strict, 'Uruguay', 'Overall')\n",
    "print('-Overall-')\n",
    "print('Average rating: {:.1f}'.format(rating_4312_URG_Overall))\n",
    "print(best_list_4312_URG_Overall)"
   ]
  },
  {
   "cell_type": "code",
   "execution_count": null,
   "metadata": {},
   "outputs": [],
   "source": [
    "rating_442_URG_Potential, best_list_442_URG_Potential = get_best_squad_n(squad_442_strict, 'Uruguay', 'Potential')\n",
    "print('-Potential-')\n",
    "print('Average rating: {:.1f}'.format(rating_442_URG_Potential))\n",
    "print(best_list_442_URG_Potential)"
   ]
  },
  {
   "cell_type": "markdown",
   "metadata": {},
   "source": [
    "![](images/cavani.jpg)\n",
    "\n",
    "### 3.11 - Croatia\n",
    "Well, I'm a big fan of Modric and Rakitic. Needless to say about their winning habits?"
   ]
  },
  {
   "cell_type": "code",
   "execution_count": null,
   "metadata": {},
   "outputs": [],
   "source": [
    "Croatia = pd.DataFrame(np.array(get_summary_n(squad_list, squad_name, ['Croatia'])).reshape(-1,4), columns = ['Nationality', 'Squad', 'Overall', 'Potential'])\n",
    "Croatia.set_index('Nationality', inplace = True)\n",
    "Croatia[['Overall', 'Potential']] = Croatia[['Overall', 'Potential']].astype(float)\n",
    "\n",
    "print (Croatia)"
   ]
  },
  {
   "cell_type": "markdown",
   "metadata": {},
   "source": [
    "Dope, Croatia is superior with a 4-2-3-1 using current form and 4-3-3 using potential form."
   ]
  },
  {
   "cell_type": "code",
   "execution_count": null,
   "metadata": {},
   "outputs": [],
   "source": [
    "rating_4231_CRO_Overall, best_list_4231_CRO_Overall = get_best_squad_n(squad_4231_strict, 'Croatia', 'Overall')\n",
    "print('-Overall-')\n",
    "print('Average rating: {:.1f}'.format(rating_4231_CRO_Overall))\n",
    "print(best_list_4231_CRO_Overall)"
   ]
  },
  {
   "cell_type": "code",
   "execution_count": null,
   "metadata": {},
   "outputs": [],
   "source": [
    "rating_433_CRO_Potential, best_list_433_CRO_Potential = get_best_squad_n(squad_433_strict, 'Croatia', 'Potential')\n",
    "print('-Potential-')\n",
    "print('Average rating: {:.1f}'.format(rating_433_CRO_Potential))\n",
    "print(best_list_433_CRO_Potential)"
   ]
  },
  {
   "cell_type": "markdown",
   "metadata": {},
   "source": [
    "![](images/modric.jpg)\n",
    "\n",
    "## 4 - Final Comparison\n",
    "Ok, let's make some comparison between these 10 line-ups with the current rating of players for these strongest contenders for World Cup 2018."
   ]
  },
  {
   "cell_type": "code",
   "execution_count": null,
   "metadata": {},
   "outputs": [],
   "source": [
    "teams = ('France', 'Germany', 'Spain', 'England', 'Brazil', 'Argentina', 'Belgium', 'Portugal', 'Uruguay', 'Croatia')\n",
    "index = np.arange(len(teams))\n",
    "average_overall = [84.6, 86.3, 86.6, 82.7, 85.5, 84.3, 84.3, 83.5, 81.1, 81.6]\n",
    "\n",
    "plt.figure(figsize=(16,8))\n",
    "plt.barh(index, average_overall, align='center', alpha=0.5)\n",
    "plt.yticks(index, teams, fontsize=20)\n",
    "plt.ylabel('National Teams', fontsize=25)\n",
    "plt.xlabel('Average Overall', fontsize=25)\n",
    "plt.title('Average Overall Rating of Players', fontsize=30, fontweight='bold', y=1.05,)\n",
    " \n",
    "plt.show()"
   ]
  },
  {
   "cell_type": "code",
   "execution_count": null,
   "metadata": {},
   "outputs": [],
   "source": [
    "total_value = [446.5, 502, 484.5, 298.5, 433, 382, 440.5, 323, 283.5, 244.9]\n",
    "\n",
    "plt.figure(figsize=(16,8))\n",
    "plt.barh(index, total_value, align='center', alpha=0.5, color='red')\n",
    "plt.yticks(index, teams, fontsize=20)\n",
    "plt.ylabel('National Teams', fontsize=25)\n",
    "plt.xlabel('Total Value in Million Euros', fontsize=25)\n",
    "plt.title('Total Value of Players', fontsize=30, fontweight='bold', y=1.05,)\n",
    " \n",
    "plt.show()"
   ]
  },
  {
   "cell_type": "code",
   "execution_count": null,
   "metadata": {},
   "outputs": [],
   "source": [
    "average_wage = [141, 188, 228, 119, 167, 151, 166, 118, 99, 110]\n",
    "\n",
    "plt.figure(figsize=(16,8))\n",
    "plt.barh(index, average_wage, align='center', alpha=0.5, color='green')\n",
    "plt.yticks(index, teams, fontsize=20)\n",
    "plt.ylabel('National Teams', fontsize=25)\n",
    "plt.xlabel('Average Wages in Thousand Euros', fontsize=25)\n",
    "plt.title('Average Wages of Players', fontsize=30, fontweight='bold', y=1.05,)\n",
    " \n",
    "plt.show()"
   ]
  },
  {
   "cell_type": "markdown",
   "metadata": {},
   "source": [
    "## Conclusion\n",
    "So based purely on the FIFA 18 Data:\n",
    "* Spain has the highest average overall rating, followed by Germany and Brazil. \n",
    "* Germany has the highest total value, followed by Spain and France. \n",
    "* Spain has the highest average wage, followed by Germany and Brazil.\n",
    "\n",
    "My bet is for a **Spain vs Germany** in the final, and **Brazil vs France** for the 3rd place. Your turn?"
   ]
  }
 ],
 "metadata": {
  "kernelspec": {
   "display_name": "Python 3",
   "language": "python",
   "name": "python3"
  },
  "language_info": {
   "codemirror_mode": {
    "name": "ipython",
    "version": 3
   },
   "file_extension": ".py",
   "mimetype": "text/x-python",
   "name": "python",
   "nbconvert_exporter": "python",
   "pygments_lexer": "ipython3",
   "version": "3.6.4"
  }
 },
 "nbformat": 4,
 "nbformat_minor": 2
}
