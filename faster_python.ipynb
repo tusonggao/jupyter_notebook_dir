{
 "cells": [
  {
   "cell_type": "code",
   "execution_count": 2,
   "metadata": {},
   "outputs": [],
   "source": [
    "import timeit"
   ]
  },
  {
   "cell_type": "code",
   "execution_count": 32,
   "metadata": {},
   "outputs": [
    {
     "name": "stdout",
     "output_type": "stream",
     "text": [
      "t1 is  1.5242532692927853\n",
      "t2 is  1.4921551090276353\n"
     ]
    },
    {
     "data": {
      "text/plain": [
       "0.003914104635441618"
      ]
     },
     "execution_count": 32,
     "metadata": {},
     "output_type": "execute_result"
    }
   ],
   "source": [
    "max = 10000000\n",
    "\n",
    "def way1():\n",
    "#     return 1**2\n",
    "    mylist = []\n",
    "    for i in range(max):\n",
    "        mylist.append(i*i)\n",
    "    return mylist\n",
    "\n",
    "def way2():\n",
    "#     return 1**2\n",
    "    mylist = [i*i for i in range(max)]\n",
    "    return mylist\n",
    "\n",
    "t1 = timeit.timeit('way1', setup='from __main__ import way1', number=10**8)\n",
    "print('t1 is ', t1)\n",
    "\n",
    "t2 = timeit.timeit('way2', setup='from __main__ import way2', number=10**8)\n",
    "print('t2 is ', t2)\n",
    "\n",
    "\n",
    "timeit.timeit('\"-\".join(str(n) for n in range(100))', number=100)"
   ]
  },
  {
   "cell_type": "code",
   "execution_count": 39,
   "metadata": {},
   "outputs": [
    {
     "name": "stdout",
     "output_type": "stream",
     "text": [
      "t1 is  1.2511276509030722e-05\n",
      "t2 is  1.2832078027713578e-05\n"
     ]
    },
    {
     "data": {
      "text/plain": [
       "0.002376180070314149"
      ]
     },
     "execution_count": 39,
     "metadata": {},
     "output_type": "execute_result"
    }
   ],
   "source": [
    "from collections import defaultdict\n",
    "\n",
    "def way1():\n",
    "    d = {}\n",
    "    chars = ['a', 'b', 'c', 'c', 'a', 'a']*10000\n",
    "    for c in chars:\n",
    "        if c in d:\n",
    "            d[c] += 1\n",
    "        else:\n",
    "            d[c] = 1\n",
    "    return d\n",
    "\n",
    "def way1():\n",
    "    d = defaultdict()\n",
    "    chars = ['a', 'b', 'c', 'c', 'a', 'a']*10000\n",
    "    for c in chars:\n",
    "        d[c] += 1\n",
    "    return d\n",
    "\n",
    "t1 = timeit.timeit('way1', setup='from __main__ import way1', number=1000*1)\n",
    "print('t1 is ', t1)\n",
    "\n",
    "t2 = timeit.timeit('way2', setup='from __main__ import way2', number=1000*1)\n",
    "print('t2 is ', t2)\n",
    "\n",
    "timeit.timeit('\"-\".join(str(n) for n in range(100))', number=100)"
   ]
  }
 ],
 "metadata": {
  "kernelspec": {
   "display_name": "Python 3",
   "language": "python",
   "name": "python3"
  },
  "language_info": {
   "codemirror_mode": {
    "name": "ipython",
    "version": 3
   },
   "file_extension": ".py",
   "mimetype": "text/x-python",
   "name": "python",
   "nbconvert_exporter": "python",
   "pygments_lexer": "ipython3",
   "version": "3.6.4"
  }
 },
 "nbformat": 4,
 "nbformat_minor": 2
}
