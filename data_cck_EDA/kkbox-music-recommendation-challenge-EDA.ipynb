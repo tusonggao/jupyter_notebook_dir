{
 "cells": [
  {
   "cell_type": "code",
   "execution_count": 1,
   "metadata": {},
   "outputs": [
    {
     "name": "stdout",
     "output_type": "stream",
     "text": [
      "hello world\n"
     ]
    }
   ],
   "source": [
    "from __future__ import absolute_import\n",
    "from __future__ import division\n",
    "from __future__ import print_function\n",
    "import os\n",
    "import sys\n",
    "import time\n",
    "import numpy as np\n",
    "import pandas as pd\n",
    "\n",
    "print('hello world')"
   ]
  },
  {
   "cell_type": "code",
   "execution_count": null,
   "metadata": {},
   "outputs": [],
   "source": [
    "train_df = pd.read_csv('./atad/train.csv')  # df.shape is  (7377418, 6)   df.target 1 ratio is  0.5035170841614234\n",
    "print('train_df.shape is ', train_df.shape)\n",
    "print('train_df.head(10) is ', train_df.head(10))\n",
    "print('train_df.target 1 ratio is ', train_df.target.sum()/len(train_df))\n",
    "print('train_df.source_system_tab nunique is ', train_df['source_system_tab'].nunique())\n",
    "print('train_df.source_screen_name nunique is ', train_df['source_screen_name'].nunique())\n",
    "print('train_df.source_type nunique is ', train_df['source_type'].nunique())\n",
    "#source_system_tab,source_screen_name,source_type\n",
    "\n",
    "test_df = pd.read_csv('./atad/test.csv')\n",
    "print('test_df.shape is ', test_df.shape)\n",
    "\n",
    "members_df = pd.read_csv('./atad/members.csv')\n",
    "print('members_df.shape is ', members_df.shape)\n",
    "print('members_df.head(10) is ', members_df.head(10))\n",
    "\n",
    "song_df = pd.read_csv('./atad/songs.csv')\n",
    "print('song_df.shape is ', song_df.shape)\n",
    "print('song_df.head(10) is ', song_df.head(10))\n",
    "\n",
    "song_extra_info_df = pd.read_csv('./atad/song_extra_info.csv')\n",
    "print('song_extra_info_df.shape is ', song_extra_info_df.shape)\n",
    "print('song_extra_info_df.head(10) is ', song_extra_info_df.head(10))\n",
    "\n",
    "print('hello world!')"
   ]
  }
 ],
 "metadata": {
  "kernelspec": {
   "display_name": "Python 3",
   "language": "python",
   "name": "python3"
  },
  "language_info": {
   "codemirror_mode": {
    "name": "ipython",
    "version": 3
   },
   "file_extension": ".py",
   "mimetype": "text/x-python",
   "name": "python",
   "nbconvert_exporter": "python",
   "pygments_lexer": "ipython3",
   "version": "3.7.4"
  }
 },
 "nbformat": 4,
 "nbformat_minor": 2
}
